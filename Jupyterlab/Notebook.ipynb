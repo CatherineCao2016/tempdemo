{
 "cells": [
  {
   "cell_type": "code",
   "execution_count": null,
   "id": "august-lender",
   "metadata": {
    "id": "0f46bed9-ce18-46a2-973d-223d98ffa4fc",
    "tags": []
   },
   "outputs": [],
   "source": [
    "# this is a test notebook"
   ]
  },
  {
   "cell_type": "code",
   "execution_count": null,
   "id": "arbitrary-green",
   "metadata": {
    "id": "1eab8035-ada4-461e-a185-effd88a532f3"
   },
   "outputs": [],
   "source": [
    "# this update 2 from user 1"
   ]
  }
 ],
 "metadata": {
  "kernelspec": {
   "display_name": "Python 3.7",
   "language": "python",
   "name": "python3"
  },
  "language_info": {
   "codemirror_mode": {
    "name": "ipython",
    "version": 3
   },
   "file_extension": ".py",
   "mimetype": "text/x-python",
   "name": "python",
   "nbconvert_exporter": "python",
   "pygments_lexer": "ipython3",
   "version": "3.7.11"
  }
 },
 "nbformat": 4,
 "nbformat_minor": 5
}
