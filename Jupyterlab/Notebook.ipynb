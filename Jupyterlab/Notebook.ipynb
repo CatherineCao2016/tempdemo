{
 "cells": [
  {
   "cell_type": "code",
   "execution_count": null,
   "id": "widespread-format",
   "metadata": {
    "id": "fa015a63-b6fd-40bb-9a3b-1457d86c4028",
    "tags": []
   },
   "outputs": [],
   "source": [
    "# this is a test notebook"
   ]
  },
  {
   "cell_type": "code",
   "execution_count": null,
   "id": "healthy-whale",
   "metadata": {
    "id": "adbed7c1-a465-49ed-816c-7adbe5d9b5f5"
   },
   "outputs": [],
   "source": [
    "# this is update from user 1"
   ]
  }
 ],
 "metadata": {
  "kernelspec": {
   "display_name": "Python 3.7",
   "language": "python",
   "name": "python3"
  },
  "language_info": {
   "codemirror_mode": {
    "name": "ipython",
    "version": 3
   },
   "file_extension": ".py",
   "mimetype": "text/x-python",
   "name": "python",
   "nbconvert_exporter": "python",
   "pygments_lexer": "ipython3",
   "version": "3.7.11"
  }
 },
 "nbformat": 4,
 "nbformat_minor": 5
}
