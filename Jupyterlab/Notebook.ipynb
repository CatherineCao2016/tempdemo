{
 "cells": [
  {
   "cell_type": "code",
   "execution_count": null,
   "id": "polish-catering",
   "metadata": {
    "id": "fa015a63-b6fd-40bb-9a3b-1457d86c4028",
    "tags": []
   },
   "outputs": [],
   "source": [
    "# this is a test notebook"
   ]
  }
 ],
 "metadata": {
  "kernelspec": {
   "display_name": "Python 3.7",
   "language": "python",
   "name": "python3"
  },
  "language_info": {
   "codemirror_mode": {
    "name": "ipython",
    "version": 3
   },
   "file_extension": ".py",
   "mimetype": "text/x-python",
   "name": "python",
   "nbconvert_exporter": "python",
   "pygments_lexer": "ipython3",
   "version": "3.7.11"
  }
 },
 "nbformat": 4,
 "nbformat_minor": 5
}
