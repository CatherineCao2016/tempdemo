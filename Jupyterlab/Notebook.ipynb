{
 "cells": [
  {
   "cell_type": "code",
   "execution_count": null,
   "id": "centered-walter",
   "metadata": {
    "id": "fa015a63-b6fd-40bb-9a3b-1457d86c4028",
    "tags": []
   },
   "outputs": [],
   "source": [
    "# this is a test notebook"
   ]
  },
  {
   "cell_type": "code",
   "execution_count": null,
   "id": "electric-halloween",
   "metadata": {
    "id": "9f55a03c-ad17-4e8a-a9d6-5af0fb35fafc"
   },
   "outputs": [],
   "source": [
    "# update from user 2"
   ]
  },
  {
   "cell_type": "code",
   "execution_count": null,
   "id": "worldwide-length",
   "metadata": {
    "id": "b6c3fa21-aded-474d-ac5e-162fd51baa32"
   },
   "outputs": [],
   "source": [
    "# update from user 1"
   ]
  }
 ],
 "metadata": {
  "kernelspec": {
   "display_name": "Python 3.7",
   "language": "python",
   "name": "python3"
  },
  "language_info": {
   "codemirror_mode": {
    "name": "ipython",
    "version": 3
   },
   "file_extension": ".py",
   "mimetype": "text/x-python",
   "name": "python",
   "nbconvert_exporter": "python",
   "pygments_lexer": "ipython3",
   "version": "3.7.11"
  }
 },
 "nbformat": 4,
 "nbformat_minor": 5
}
